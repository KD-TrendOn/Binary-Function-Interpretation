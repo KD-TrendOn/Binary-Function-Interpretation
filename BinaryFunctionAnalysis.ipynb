{
  "nbformat": 4,
  "nbformat_minor": 0,
  "metadata": {
    "colab": {
      "provenance": []
    },
    "kernelspec": {
      "name": "python3",
      "display_name": "Python 3"
    },
    "language_info": {
      "name": "python"
    }
  },
  "cells": [
    {
      "cell_type": "code",
      "execution_count": 2,
      "metadata": {
        "id": "akg_pqQcAJEc"
      },
      "outputs": [],
      "source": [
        "def input_bin_func():\n",
        "  \"\"\"Здесь будет помощь ко вводу\"\"\"\n",
        "  alphabet = 'qwertyuiopasdfghjklzxcvbnm'\n",
        "  print(\"\"\"Приветствуем вас в программе преобразования бинарных функций.\n",
        "  Введите ваше логическое выражение с переменными - буквами латинского алфавита,\n",
        "  например x, y, z.\n",
        "  Принимаются такие логические операторы:\n",
        "  not - ~\n",
        "  and - &\n",
        "  or - |\n",
        "  xor - ^\n",
        "  эквивалентность - ==\n",
        "  Ограничьте нужные выражения скобками для соблюдения порядка действий\n",
        "  Пример логического выражения:\n",
        "  ~((~x|~y)==(x&y))^z\"\"\")\n",
        "  raw = input()\n",
        "  unique = set()\n",
        "  for i in raw:\n",
        "    if i in alphabet:\n",
        "      unique.add(i)\n",
        "  for i in unique:\n",
        "    raw = raw.replace(i, '{'+i+'}')\n",
        "  return {\"Variables\":sorted(list(unique)), \"Logic_Function\":raw}"
      ]
    },
    {
      "cell_type": "code",
      "source": [
        "from itertools import product\n",
        "def build_table(logic_function, vars=['x', 'y', 'z']):\n",
        "  \"\"\"Собираем таблицу истинности, возвращаем результирующий столбец\"\"\"\n",
        "  result = []\n",
        "  for stek in product([False, True], repeat=len(vars)):\n",
        "    zap = {}\n",
        "    for num, i in enumerate(vars):\n",
        "      zap[i] = stek[num]\n",
        "    temp = logic_function.format(**zap).replace('~', 'not ').replace('|', ' or ').replace('&', ' and ').replace('^', '!=')\n",
        "    result.append(int(eval(temp)))\n",
        "  return result"
      ],
      "metadata": {
        "id": "51fnOZ0hFUMI"
      },
      "execution_count": 3,
      "outputs": []
    },
    {
      "cell_type": "code",
      "source": [
        "\"\"\"Проверка\"\"\"\n",
        "dic = input_bin_func()\n",
        "print(build_table(dic['Logic_Function'], dic['Variables']))"
      ],
      "metadata": {
        "colab": {
          "base_uri": "https://localhost:8080/"
        },
        "id": "5n_PGZ16HbxA",
        "outputId": "66f12733-944d-40e1-be23-0b1b52398820"
      },
      "execution_count": 4,
      "outputs": [
        {
          "output_type": "stream",
          "name": "stdout",
          "text": [
            "Приветствуем вас в программе преобразования бинарных функций.\n",
            "  Введите ваше логическое выражение с переменными - буквами латинского алфавита,\n",
            "  например x, y, z.\n",
            "  Принимаются такие логические операторы:\n",
            "  not - ~\n",
            "  and - &\n",
            "  or - |\n",
            "  xor - ^\n",
            "  эквивалентность - ==\n",
            "  Ограничьте нужные выражения скобками для соблюдения порядка действий\n",
            "  Пример логического выражения:\n",
            "  ~((~x|~y)==(x&y))^z\n",
            "~((~x|~y)==(x&y))^z\n",
            "[1, 0, 1, 0, 1, 0, 1, 0]\n"
          ]
        }
      ]
    },
    {
      "cell_type": "code",
      "source": [
        "def build_cdnf(result_column, vars=['x','y','z']):\n",
        "  sol=''\n",
        "  for ind, stek in enumerate(product([False, True], repeat=len(vars))):\n",
        "    if result_column[ind]:\n",
        "      now_term='('\n",
        "      zap = {}\n",
        "      for num, i in enumerate(vars):\n",
        "        if not stek[num]:\n",
        "          now_term+='~'\n",
        "        now_term+=i\n",
        "        now_term+='&'\n",
        "      now_term = now_term[:-1]\n",
        "      now_term+=')|'\n",
        "      sol+=now_term\n",
        "  return sol[:-1]"
      ],
      "metadata": {
        "id": "3gaKOlLWJN8W"
      },
      "execution_count": 5,
      "outputs": []
    },
    {
      "cell_type": "code",
      "source": [
        "\"\"\"Проверка\"\"\"\n",
        "print(build_cdnf(build_table(dic['Logic_Function'], dic['Variables']), dic['Variables']))"
      ],
      "metadata": {
        "colab": {
          "base_uri": "https://localhost:8080/"
        },
        "id": "7UT6F3t1Khe3",
        "outputId": "13536bdc-141d-45db-a333-fd1961cdfe18"
      },
      "execution_count": 6,
      "outputs": [
        {
          "output_type": "stream",
          "name": "stdout",
          "text": [
            "(~x&~y&~z)|(~x&y&~z)|(x&~y&~z)|(x&y&~z)\n"
          ]
        }
      ]
    },
    {
      "cell_type": "code",
      "source": [
        "def build_cknf(result_column, vars=['x','y','z']):\n",
        "  sol=''\n",
        "  for ind, stek in enumerate(product([False, True], repeat=len(vars))):\n",
        "    if not result_column[ind]:\n",
        "      now_term='('\n",
        "      zap = {}\n",
        "      for num, i in enumerate(vars):\n",
        "        if stek[num]:\n",
        "          now_term+='~'\n",
        "        now_term+=i\n",
        "        now_term+='|'\n",
        "      now_term = now_term[:-1]\n",
        "      now_term+=')&'\n",
        "      sol+=now_term\n",
        "  return sol[:-1]"
      ],
      "metadata": {
        "id": "CvbHOM9bK53F"
      },
      "execution_count": 7,
      "outputs": []
    },
    {
      "cell_type": "code",
      "source": [
        "\"\"\"Проверка\"\"\"\n",
        "print(build_cknf(build_table(dic['Logic_Function'], dic['Variables']), dic['Variables']))"
      ],
      "metadata": {
        "colab": {
          "base_uri": "https://localhost:8080/"
        },
        "id": "4_1wS3QZLCet",
        "outputId": "01580714-19b6-43c3-de1e-ffbe6a896c4d"
      },
      "execution_count": 8,
      "outputs": [
        {
          "output_type": "stream",
          "name": "stdout",
          "text": [
            "(x|y|~z)&(x|~y|~z)&(~x|y|~z)&(~x|~y|~z)\n"
          ]
        }
      ]
    },
    {
      "cell_type": "markdown",
      "source": [
        "Отлично, теперь можем доделать вспомогательную функцию, и уже решить задание.\n"
      ],
      "metadata": {
        "id": "W6edWNbkLGql"
      }
    },
    {
      "cell_type": "code",
      "source": [
        "def bin_func(raw:str):\n",
        "  \"\"\"Здесь будет ПРЕОБРАЗОВАНИЕ ГОТОВОЙ ФУНКЦИИ\"\"\"\n",
        "  alphabet = 'qwertyuiopasdfghjklzxcvbnm'\n",
        "  unique = set()\n",
        "  for i in raw:\n",
        "    if i in alphabet:\n",
        "      unique.add(i)\n",
        "  for i in unique:\n",
        "    raw = raw.replace(i, '{'+i+'}')\n",
        "  return {\"Variables\":sorted(list(unique)), \"Logic_Function\":raw}"
      ],
      "metadata": {
        "id": "cpce13AKLO4s"
      },
      "execution_count": 9,
      "outputs": []
    },
    {
      "cell_type": "code",
      "source": [
        "\"\"\"Проверка\"\"\"\n",
        "covkonform = build_cknf(\n",
        "        build_table(dic['Logic_Function'], dic['Variables']),\n",
        "        dic['Variables']\n",
        "    )\n",
        "new_dict = bin_func(covkonform)\n",
        "print(build_table(\n",
        "    new_dict['Logic_Function'], new_dict['Variables']\n",
        "))"
      ],
      "metadata": {
        "colab": {
          "base_uri": "https://localhost:8080/"
        },
        "id": "VfKAh6AoLe7-",
        "outputId": "92f4c44f-413c-4216-a8a9-0686e767801c"
      },
      "execution_count": 10,
      "outputs": [
        {
          "output_type": "stream",
          "name": "stdout",
          "text": [
            "[1, 0, 1, 0, 1, 0, 1, 0]\n"
          ]
        }
      ]
    },
    {
      "cell_type": "markdown",
      "source": [
        "Полное совпадение."
      ],
      "metadata": {
        "id": "VFVvqh-IM5uN"
      }
    },
    {
      "cell_type": "code",
      "source": [
        "N1 = int(input('Пожалуйста введите число N1  '))\n",
        "N2 = 256-N1\n",
        "N1_str = '{0:08b}'.format(N1)\n",
        "N2_str = '{0:08b}'.format(N2)\n",
        "print(N1_str)\n",
        "print(N2_str)\n",
        "N1_column = [int(i) for i in N1_str]\n",
        "N2_column = [int(i) for i in N2_str]\n",
        "print(build_cdnf(N1_column))\n",
        "print(build_cknf(N1_column))\n",
        "print(build_cdnf(N2_column))\n",
        "print(build_cknf(N2_column))"
      ],
      "metadata": {
        "colab": {
          "base_uri": "https://localhost:8080/"
        },
        "id": "xDnIJe9YM8c_",
        "outputId": "0e5312c4-bc93-4a77-a58a-5ba13d8eed35"
      },
      "execution_count": 17,
      "outputs": [
        {
          "output_type": "stream",
          "name": "stdout",
          "text": [
            "Пожалуйста введите число N1  20\n",
            "00010100\n",
            "11101100\n",
            "(~x&y&z)|(x&~y&z)\n",
            "(x|y|z)&(x|y|~z)&(x|~y|z)&(~x|y|z)&(~x|~y|z)&(~x|~y|~z)\n",
            "(~x&~y&~z)|(~x&~y&z)|(~x&y&~z)|(x&~y&~z)|(x&~y&z)\n",
            "(x|~y|~z)&(~x|~y|z)&(~x|~y|~z)\n"
          ]
        }
      ]
    },
    {
      "cell_type": "markdown",
      "source": [
        "Для выражения 256-N1 получается некрасивый результат, лучше попробуем сделать аналогично для 255-N1 чтобы получилось симметрично обратное число и выражения."
      ],
      "metadata": {
        "id": "7UlsTuiBOLcF"
      }
    },
    {
      "cell_type": "code",
      "source": [
        "N2 = 255-N1\n",
        "N1_str = '{0:08b}'.format(N1)\n",
        "N2_str = '{0:08b}'.format(N2)\n",
        "print(N1_str)\n",
        "print(N2_str)\n",
        "N1_column = [int(i) for i in N1_str]\n",
        "N2_column = [int(i) for i in N2_str]\n",
        "print(build_cdnf(N1_column))\n",
        "print(build_cknf(N1_column))\n",
        "print(build_cdnf(N2_column))\n",
        "print(build_cknf(N2_column))"
      ],
      "metadata": {
        "colab": {
          "base_uri": "https://localhost:8080/"
        },
        "id": "wDyo79tqOXs1",
        "outputId": "d8239505-b1c3-405e-cb06-a162823e466c"
      },
      "execution_count": 12,
      "outputs": [
        {
          "output_type": "stream",
          "name": "stdout",
          "text": [
            "00010100\n",
            "11101011\n",
            "(~x&y&z)|(x&~y&z)\n",
            "(x|y|z)&(x|y|~z)&(x|~y|z)&(~x|y|z)&(~x|~y|z)&(~x|~y|~z)\n",
            "(~x&~y&~z)|(~x&~y&z)|(~x&y&~z)|(x&~y&~z)|(x&y&~z)|(x&y&z)\n",
            "(x|~y|~z)&(~x|y|~z)\n"
          ]
        }
      ]
    },
    {
      "cell_type": "code",
      "source": [
        "def print_advanced(logic_function=None,result_column=None,vars=['x','y','z']):\n",
        "  if result_column is None:\n",
        "    result_column = build_table(logic_function=logic_function, vars=vars)\n",
        "  print(*vars, 'result', sep='\\t')\n",
        "  for ind, stek in enumerate(product(range(2), repeat=len(vars))):\n",
        "    print(*stek, result_column[ind], sep='\\t')\n"
      ],
      "metadata": {
        "id": "ptNjlRv-Srwi"
      },
      "execution_count": 13,
      "outputs": []
    },
    {
      "cell_type": "code",
      "source": [
        "print('N1')\n",
        "print_advanced(result_column=N1_column)\n",
        "print('СДНФ')\n",
        "print(build_cdnf(N1_column))\n",
        "print('СКНФ')\n",
        "print(build_cknf(N1_column))\n",
        "print('N2')\n",
        "print_advanced(result_column=N2_column)\n",
        "print('СДНФ')\n",
        "print(build_cdnf(N2_column))\n",
        "print('СКНФ')\n",
        "print(build_cknf(N2_column))"
      ],
      "metadata": {
        "colab": {
          "base_uri": "https://localhost:8080/"
        },
        "id": "0bRhrCjDTH3U",
        "outputId": "a329372c-06fd-4129-93e5-a7ae3e53f78c"
      },
      "execution_count": 18,
      "outputs": [
        {
          "output_type": "stream",
          "name": "stdout",
          "text": [
            "N1\n",
            "x\ty\tz\tresult\n",
            "0\t0\t0\t0\n",
            "0\t0\t1\t0\n",
            "0\t1\t0\t0\n",
            "0\t1\t1\t1\n",
            "1\t0\t0\t0\n",
            "1\t0\t1\t1\n",
            "1\t1\t0\t0\n",
            "1\t1\t1\t0\n",
            "СДНФ\n",
            "(~x&y&z)|(x&~y&z)\n",
            "СКНФ\n",
            "(x|y|z)&(x|y|~z)&(x|~y|z)&(~x|y|z)&(~x|~y|z)&(~x|~y|~z)\n",
            "N2\n",
            "x\ty\tz\tresult\n",
            "0\t0\t0\t1\n",
            "0\t0\t1\t1\n",
            "0\t1\t0\t1\n",
            "0\t1\t1\t0\n",
            "1\t0\t0\t1\n",
            "1\t0\t1\t1\n",
            "1\t1\t0\t0\n",
            "1\t1\t1\t0\n",
            "СДНФ\n",
            "(~x&~y&~z)|(~x&~y&z)|(~x&y&~z)|(x&~y&~z)|(x&~y&z)\n",
            "СКНФ\n",
            "(x|~y|~z)&(~x|~y|z)&(~x|~y|~z)\n"
          ]
        }
      ]
    }
  ]
}