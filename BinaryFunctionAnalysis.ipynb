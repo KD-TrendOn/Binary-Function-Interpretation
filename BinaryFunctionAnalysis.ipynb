{
  "nbformat": 4,
  "nbformat_minor": 0,
  "metadata": {
    "colab": {
      "provenance": []
    },
    "kernelspec": {
      "name": "python3",
      "display_name": "Python 3"
    },
    "language_info": {
      "name": "python"
    }
  },
  "cells": [
    {
      "cell_type": "code",
      "execution_count": 27,
      "metadata": {
        "id": "akg_pqQcAJEc"
      },
      "outputs": [],
      "source": [
        "def input_bin_func():\n",
        "  \"\"\"Здесь будет помощь ко вводу\"\"\"\n",
        "  alphabet = 'qwertyuiopasdfghjklzxcvbnm'\n",
        "  print(\"\"\"Приветствуем вас в программе преобразования бинарных функций.\n",
        "  Введите ваше логическое выражение с переменными - буквами латинского алфавита,\n",
        "  например x, y, z.\n",
        "  Принимаются такие логические операторы:\n",
        "  not - ~\n",
        "  and - &\n",
        "  or - |\n",
        "  xor - ^\n",
        "  эквивалентность - ==\n",
        "  Ограничьте нужные выражения скобками для соблюдения порядка действий\n",
        "  Пример логического выражения:\n",
        "  ~((~x|~y)==(x&y))^z\"\"\")\n",
        "  raw = input()\n",
        "  unique = set()\n",
        "  for i in raw:\n",
        "    if i in alphabet:\n",
        "      unique.add(i)\n",
        "  for i in unique:\n",
        "    raw = raw.replace(i, '{'+i+'}')\n",
        "  return {\"Variables\":sorted(list(unique)), \"Logic_Function\":raw}"
      ]
    },
    {
      "cell_type": "code",
      "source": [
        "from itertools import product\n",
        "def build_table(logic_function, vars=['x', 'y', 'z']):\n",
        "  \"\"\"Собираем таблицу истинности, возвращаем результирующий столбец\"\"\"\n",
        "  result = []\n",
        "  for stek in product([False, True], repeat=len(vars)):\n",
        "    zap = {}\n",
        "    for num, i in enumerate(vars):\n",
        "      zap[i] = stek[num]\n",
        "    temp = logic_function.format(**zap).replace('~', 'not ').replace('|', ' or ').replace('&', ' and ').replace('^', '!=')\n",
        "    result.append(int(eval(temp)))\n",
        "  return result"
      ],
      "metadata": {
        "id": "51fnOZ0hFUMI"
      },
      "execution_count": 28,
      "outputs": []
    },
    {
      "cell_type": "code",
      "source": [
        "\"\"\"Проверка\"\"\"\n",
        "dic = input_bin_func()\n",
        "print(build_table(dic['Logic_Function'], dic['Variables']))"
      ],
      "metadata": {
        "colab": {
          "base_uri": "https://localhost:8080/"
        },
        "id": "5n_PGZ16HbxA",
        "outputId": "f62fdb07-2a78-4af0-db47-4a2ca644658f"
      },
      "execution_count": 29,
      "outputs": [
        {
          "output_type": "stream",
          "name": "stdout",
          "text": [
            "Приветствуем вас в программе преобразования бинарных функций.\n",
            "  Введите ваше логическое выражение с переменными - буквами латинского алфавита,\n",
            "  например x, y, z.\n",
            "  Принимаются такие логические операторы: \n",
            "  not - ~\n",
            "  and - &\n",
            "  or - |\n",
            "  xor - ^\n",
            "  эквивалентность - ==\n",
            "  Ограничьте нужные выражения скобками для соблюдения порядка действий\n",
            "  Пример логического выражения:\n",
            "  ~((~x|~y)==(x&y))^z\n",
            "~((~x|~y)==(x&y))^z\n",
            "[1, 0, 1, 0, 1, 0, 1, 0]\n"
          ]
        }
      ]
    },
    {
      "cell_type": "code",
      "source": [
        "def build_cdnf(result_column, vars=['x','y','z']):\n",
        "  sol=''\n",
        "  for ind, stek in enumerate(product([False, True], repeat=len(vars))):\n",
        "    if result_column[ind]:\n",
        "      now_term='('\n",
        "      zap = {}\n",
        "      for num, i in enumerate(vars):\n",
        "        if not stek[num]:\n",
        "          now_term+='~'\n",
        "        now_term+=i\n",
        "        now_term+='&'\n",
        "      now_term = now_term[:-1]\n",
        "      now_term+=')|'\n",
        "      sol+=now_term\n",
        "  return sol[:-1]"
      ],
      "metadata": {
        "id": "3gaKOlLWJN8W"
      },
      "execution_count": 30,
      "outputs": []
    },
    {
      "cell_type": "code",
      "source": [
        "\"\"\"Проверка\"\"\"\n",
        "print(build_cdnf(build_table(dic['Logic_Function'], dic['Variables']), dic['Variables']))"
      ],
      "metadata": {
        "colab": {
          "base_uri": "https://localhost:8080/"
        },
        "id": "7UT6F3t1Khe3",
        "outputId": "dfec9689-a67e-4f65-b489-38af45513c8a"
      },
      "execution_count": 31,
      "outputs": [
        {
          "output_type": "stream",
          "name": "stdout",
          "text": [
            "(~x&~y&~z)|(~x&y&~z)|(x&~y&~z)|(x&y&~z)\n"
          ]
        }
      ]
    },
    {
      "cell_type": "code",
      "source": [
        "def build_cknf(result_column, vars=['x','y','z']):\n",
        "  sol=''\n",
        "  for ind, stek in enumerate(product([False, True], repeat=len(vars))):\n",
        "    if not result_column[ind]:\n",
        "      now_term='('\n",
        "      zap = {}\n",
        "      for num, i in enumerate(vars):\n",
        "        if stek[num]:\n",
        "          now_term+='~'\n",
        "        now_term+=i\n",
        "        now_term+='|'\n",
        "      now_term = now_term[:-1]\n",
        "      now_term+=')&'\n",
        "      sol+=now_term\n",
        "  return sol[:-1]"
      ],
      "metadata": {
        "id": "CvbHOM9bK53F"
      },
      "execution_count": 32,
      "outputs": []
    },
    {
      "cell_type": "code",
      "source": [
        "\"\"\"Проверка\"\"\"\n",
        "print(build_cknf(build_table(dic['Logic_Function'], dic['Variables']), dic['Variables']))"
      ],
      "metadata": {
        "colab": {
          "base_uri": "https://localhost:8080/"
        },
        "id": "4_1wS3QZLCet",
        "outputId": "65bffef4-ce5a-4152-bf12-0b9c4a6c5b49"
      },
      "execution_count": 33,
      "outputs": [
        {
          "output_type": "stream",
          "name": "stdout",
          "text": [
            "(x|y|~z)&(x|~y|~z)&(~x|y|~z)&(~x|~y|~z)\n"
          ]
        }
      ]
    },
    {
      "cell_type": "markdown",
      "source": [
        "Отлично, теперь можем доделать вспомогательную функцию, и уже решить задание.\n"
      ],
      "metadata": {
        "id": "W6edWNbkLGql"
      }
    },
    {
      "cell_type": "code",
      "source": [
        "def bin_func(raw:str):\n",
        "  \"\"\"Здесь будет ПРЕОБРАЗОВАНИЕ ГОТОВОЙ ФУНКЦИИ\"\"\"\n",
        "  alphabet = 'qwertyuiopasdfghjklzxcvbnm'\n",
        "  unique = set()\n",
        "  for i in raw:\n",
        "    if i in alphabet:\n",
        "      unique.add(i)\n",
        "  for i in unique:\n",
        "    raw = raw.replace(i, '{'+i+'}')\n",
        "  return {\"Variables\":sorted(list(unique)), \"Logic_Function\":raw}"
      ],
      "metadata": {
        "id": "cpce13AKLO4s"
      },
      "execution_count": 34,
      "outputs": []
    },
    {
      "cell_type": "code",
      "source": [
        "\"\"\"Проверка\"\"\"\n",
        "covkonform = build_cknf(\n",
        "        build_table(dic['Logic_Function'], dic['Variables']),\n",
        "        dic['Variables']\n",
        "    )\n",
        "new_dict = bin_func(covkonform)\n",
        "print(build_table(\n",
        "    new_dict['Logic_Function'], new_dict['Variables']\n",
        "))"
      ],
      "metadata": {
        "colab": {
          "base_uri": "https://localhost:8080/"
        },
        "id": "VfKAh6AoLe7-",
        "outputId": "84ac28b0-eaad-4678-9d11-e5b14ff9e263"
      },
      "execution_count": 35,
      "outputs": [
        {
          "output_type": "stream",
          "name": "stdout",
          "text": [
            "[1, 0, 1, 0, 1, 0, 1, 0]\n"
          ]
        }
      ]
    },
    {
      "cell_type": "markdown",
      "source": [
        "Полное совпадение."
      ],
      "metadata": {
        "id": "VFVvqh-IM5uN"
      }
    },
    {
      "cell_type": "code",
      "source": [
        "N1 = int(input('Пожалуйста введите число N1  '))\n",
        "N2 = 256-N1\n",
        "N1_str = '{0:08b}'.format(N1)\n",
        "N2_str = '{0:08b}'.format(N2)\n",
        "print(N1_str)\n",
        "print(N2_str)\n",
        "N1_column = [int(i) for i in N1_str]\n",
        "N2_column = [int(i) for i in N2_str]\n",
        "print(build_cdnf(N1_column))\n",
        "print(build_cknf(N1_column))\n",
        "print(build_cdnf(N2_column))\n",
        "print(build_cknf(N2_column))"
      ],
      "metadata": {
        "colab": {
          "base_uri": "https://localhost:8080/"
        },
        "id": "xDnIJe9YM8c_",
        "outputId": "3119e7ec-053a-4916-e0d4-faf71b24ca10"
      },
      "execution_count": 40,
      "outputs": [
        {
          "output_type": "stream",
          "name": "stdout",
          "text": [
            "Пожалуйста введите число N1  20\n",
            "00010100\n",
            "11101100\n",
            "(~x&y&z)|(x&~y&z)\n",
            "(x|y|z)&(x|y|~z)&(x|~y|z)&(~x|y|z)&(~x|~y|z)&(~x|~y|~z)\n",
            "(~x&~y&~z)|(~x&~y&z)|(~x&y&~z)|(x&~y&~z)|(x&~y&z)\n",
            "(x|~y|~z)&(~x|~y|z)&(~x|~y|~z)\n"
          ]
        }
      ]
    },
    {
      "cell_type": "markdown",
      "source": [
        "Для выражения 256-N1 получается некрасивый результат, лучше попробуем сделать аналогично для 255-N1 чтобы получилось симметрично обратное число и выражения."
      ],
      "metadata": {
        "id": "7UlsTuiBOLcF"
      }
    },
    {
      "cell_type": "code",
      "source": [
        "N2 = 255-N1\n",
        "N1_str = '{0:08b}'.format(N1)\n",
        "N2_str = '{0:08b}'.format(N2)\n",
        "print(N1_str)\n",
        "print(N2_str)\n",
        "N1_column = [int(i) for i in N1_str]\n",
        "N2_column = [int(i) for i in N2_str]\n",
        "print(build_cdnf(N1_column))\n",
        "print(build_cknf(N1_column))\n",
        "print(build_cdnf(N2_column))\n",
        "print(build_cknf(N2_column))"
      ],
      "metadata": {
        "colab": {
          "base_uri": "https://localhost:8080/"
        },
        "id": "wDyo79tqOXs1",
        "outputId": "7a01e94c-e52c-41c7-8810-1ab3febf2981"
      },
      "execution_count": 41,
      "outputs": [
        {
          "output_type": "stream",
          "name": "stdout",
          "text": [
            "00010100\n",
            "11101011\n",
            "(~x&y&z)|(x&~y&z)\n",
            "(x|y|z)&(x|y|~z)&(x|~y|z)&(~x|y|z)&(~x|~y|z)&(~x|~y|~z)\n",
            "(~x&~y&~z)|(~x&~y&z)|(~x&y&~z)|(x&~y&~z)|(x&y&~z)|(x&y&z)\n",
            "(x|~y|~z)&(~x|y|~z)\n"
          ]
        }
      ]
    }
  ]
}